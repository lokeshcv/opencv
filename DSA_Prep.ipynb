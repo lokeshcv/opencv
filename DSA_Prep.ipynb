{
  "nbformat": 4,
  "nbformat_minor": 0,
  "metadata": {
    "colab": {
      "provenance": [],
      "toc_visible": true,
      "authorship_tag": "ABX9TyO3nzGyWs0QNgzPKVv9k6u2",
      "include_colab_link": true
    },
    "kernelspec": {
      "name": "python3",
      "display_name": "Python 3"
    },
    "language_info": {
      "name": "python"
    }
  },
  "cells": [
    {
      "cell_type": "markdown",
      "metadata": {
        "id": "view-in-github",
        "colab_type": "text"
      },
      "source": [
        "<a href=\"https://colab.research.google.com/github/lokeshcv/opencv/blob/main/DSA_Prep.ipynb\" target=\"_parent\"><img src=\"https://colab.research.google.com/assets/colab-badge.svg\" alt=\"Open In Colab\"/></a>"
      ]
    },
    {
      "cell_type": "markdown",
      "source": [
        "# Arrays"
      ],
      "metadata": {
        "id": "M3CPaF1H88lU"
      }
    },
    {
      "cell_type": "markdown",
      "source": [
        "## 1.\tEquilibrium index of an array"
      ],
      "metadata": {
        "id": "jyf5BkAV8ix8"
      }
    },
    {
      "cell_type": "code",
      "source": [
        "def equilibrium_index(arr):\n",
        "    total_sum = sum(arr)  # Calculate the total sum of the array\n",
        "    left_sum = 0  # Initialize left sum to 0\n",
        "\n",
        "    for i in range(len(arr)):\n",
        "        total_sum -= arr[i]  # Deduct the current element from the total sum\n",
        "        if left_sum == total_sum:\n",
        "            return i\n",
        "        left_sum += arr[i]  # Add the current element to the left sum\n",
        "\n",
        "    return -1  # Return -1 if no equilibrium index is found\n",
        "\n",
        "\n",
        "arr = [-7, 1, 5, 2, -4, 3, 0]\n",
        "equilibrium_index(arr)"
      ],
      "metadata": {
        "colab": {
          "base_uri": "https://localhost:8080/"
        },
        "id": "vX3j0Prl8iY_",
        "outputId": "71aca075-e2be-437e-fda1-b4250ed00ec0"
      },
      "execution_count": 3,
      "outputs": [
        {
          "output_type": "execute_result",
          "data": {
            "text/plain": [
              "3"
            ]
          },
          "metadata": {},
          "execution_count": 3
        }
      ]
    },
    {
      "cell_type": "markdown",
      "source": [
        "\n",
        "\n",
        "## 2.\tRain water trapped\n",
        "\n"
      ],
      "metadata": {
        "id": "db-sTt5A8eb4"
      }
    },
    {
      "cell_type": "code",
      "execution_count": 1,
      "metadata": {
        "colab": {
          "base_uri": "https://localhost:8080/"
        },
        "id": "C_6VbV_M8WbJ",
        "outputId": "fdc0c29c-3c6a-4cfe-9234-1e948760d8d5"
      },
      "outputs": [
        {
          "output_type": "stream",
          "name": "stdout",
          "text": [
            "Trapped Rainwater: 3\n"
          ]
        }
      ],
      "source": [
        "def trap(heights):\n",
        "    if not heights:\n",
        "        return 0\n",
        "\n",
        "    n = len(heights)\n",
        "    left_max = [0] * n\n",
        "    right_max = [0] * n\n",
        "\n",
        "    left_max[0] = heights[0]\n",
        "    for i in range(1, n):\n",
        "        left_max[i] = max(left_max[i - 1], heights[i])\n",
        "\n",
        "    right_max[n - 1] = heights[n - 1]\n",
        "    for i in range(n - 2, -1, -1):\n",
        "        right_max[i] = max(right_max[i + 1], heights[i])\n",
        "\n",
        "    water_trapped = 0\n",
        "    for i in range(n):\n",
        "        water_trapped += min(left_max[i], right_max[i]) - heights[i]\n",
        "\n",
        "    return water_trapped\n",
        "\n",
        "# Example usage:\n",
        "heights = [2,4,1,5,2]\n",
        "result = trap(heights)\n",
        "print(\"Trapped Rainwater:\", result)\n"
      ]
    },
    {
      "cell_type": "markdown",
      "source": [
        "# Bit Manipulation"
      ],
      "metadata": {
        "id": "OE8QRjTi9BgI"
      }
    },
    {
      "cell_type": "markdown",
      "source": [
        "## 1.\tSingle Number 2"
      ],
      "metadata": {
        "id": "3MOgzubj845O"
      }
    },
    {
      "cell_type": "code",
      "source": [
        "def singleNumber(nums):\n",
        "    result = 0\n",
        "    for i in range(32):  # We assume 32-bit integers\n",
        "        count = 0\n",
        "        # Count the number of set bits at the i-th bit position for all elements\n",
        "        for num in nums:\n",
        "            count += (num >> i) & 1\n",
        "        # If the count is not a multiple of 3, set the i-th bit in the result\n",
        "        if count % 3 != 0:\n",
        "            result |= (1 << i)\n",
        "    # Handle negative numbers by checking if the most significant bit is set\n",
        "    if result >= 2**31:\n",
        "        result -= 2**32\n",
        "    return result\n",
        "\n",
        "# Example usage:\n",
        "nums = [2, 2, 3, 2]\n",
        "unique_number = singleNumber(nums)\n",
        "print(\"Unique Number:\", unique_number)\n"
      ],
      "metadata": {
        "colab": {
          "base_uri": "https://localhost:8080/"
        },
        "id": "bdJMzL5d8c7B",
        "outputId": "47a423f1-dcfd-43a3-fc98-76ea3072451d"
      },
      "execution_count": 4,
      "outputs": [
        {
          "output_type": "stream",
          "name": "stdout",
          "text": [
            "Unique Number: 3\n"
          ]
        }
      ]
    },
    {
      "cell_type": "code",
      "source": [
        "def singleNumber(nums):\n",
        "    ones, twos = 0, 0\n",
        "\n",
        "    for num in nums:\n",
        "        ones = (ones ^ num) & ~twos\n",
        "        twos = (twos ^ num) & ~ones\n",
        "\n",
        "    return ones\n",
        "\n",
        "# Example usage:\n",
        "nums = [2, 2, 3, 2]\n",
        "result = singleNumber(nums)\n",
        "print(\"The single number that occurs once:\", result)\n"
      ],
      "metadata": {
        "colab": {
          "base_uri": "https://localhost:8080/"
        },
        "id": "zlZZUeFd91C5",
        "outputId": "eb058567-8339-4a4a-c669-a4e60f3825cb"
      },
      "execution_count": 6,
      "outputs": [
        {
          "output_type": "stream",
          "name": "stdout",
          "text": [
            "The single number that occurs once: 3\n"
          ]
        }
      ]
    },
    {
      "cell_type": "markdown",
      "source": [
        "## Single Number 3"
      ],
      "metadata": {
        "id": "nFN-laOc_j0n"
      }
    },
    {
      "cell_type": "code",
      "source": [],
      "metadata": {
        "id": "7teOpweS-E_f"
      },
      "execution_count": null,
      "outputs": []
    }
  ]
}