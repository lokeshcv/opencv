{
  "nbformat": 4,
  "nbformat_minor": 0,
  "metadata": {
    "colab": {
      "provenance": [],
      "toc_visible": true,
      "authorship_tag": "ABX9TyOclOxarH0D1t7ILNcoohE6",
      "include_colab_link": true
    },
    "kernelspec": {
      "name": "python3",
      "display_name": "Python 3"
    },
    "language_info": {
      "name": "python"
    }
  },
  "cells": [
    {
      "cell_type": "markdown",
      "metadata": {
        "id": "view-in-github",
        "colab_type": "text"
      },
      "source": [
        "<a href=\"https://colab.research.google.com/github/lokeshcv/opencv/blob/main/DSA_Prep.ipynb\" target=\"_parent\"><img src=\"https://colab.research.google.com/assets/colab-badge.svg\" alt=\"Open In Colab\"/></a>"
      ]
    },
    {
      "cell_type": "markdown",
      "source": [
        "# Arrays"
      ],
      "metadata": {
        "id": "M3CPaF1H88lU"
      }
    },
    {
      "cell_type": "markdown",
      "source": [
        "## 1.\tEquilibrium index of an array"
      ],
      "metadata": {
        "id": "jyf5BkAV8ix8"
      }
    },
    {
      "cell_type": "code",
      "source": [
        "def equilibrium_index(arr):\n",
        "    total_sum = sum(arr)  # Calculate the total sum of the array\n",
        "    left_sum = 0  # Initialize left sum to 0\n",
        "\n",
        "    for i in range(len(arr)):\n",
        "        total_sum -= arr[i]  # Deduct the current element from the total sum\n",
        "        if left_sum == total_sum:\n",
        "            return i\n",
        "        left_sum += arr[i]  # Add the current element to the left sum\n",
        "\n",
        "    return -1  # Return -1 if no equilibrium index is found\n",
        "\n",
        "\n",
        "arr = [-7, 1, 5, 2, -4, 3, 0]\n",
        "equilibrium_index(arr)"
      ],
      "metadata": {
        "colab": {
          "base_uri": "https://localhost:8080/"
        },
        "id": "vX3j0Prl8iY_",
        "outputId": "71aca075-e2be-437e-fda1-b4250ed00ec0"
      },
      "execution_count": null,
      "outputs": [
        {
          "output_type": "execute_result",
          "data": {
            "text/plain": [
              "3"
            ]
          },
          "metadata": {},
          "execution_count": 3
        }
      ]
    },
    {
      "cell_type": "markdown",
      "source": [
        "\n",
        "\n",
        "## 2.\tRain water trapped\n",
        "\n"
      ],
      "metadata": {
        "id": "db-sTt5A8eb4"
      }
    },
    {
      "cell_type": "code",
      "execution_count": null,
      "metadata": {
        "colab": {
          "base_uri": "https://localhost:8080/"
        },
        "id": "C_6VbV_M8WbJ",
        "outputId": "fdc0c29c-3c6a-4cfe-9234-1e948760d8d5"
      },
      "outputs": [
        {
          "output_type": "stream",
          "name": "stdout",
          "text": [
            "Trapped Rainwater: 3\n"
          ]
        }
      ],
      "source": [
        "def trap(heights):\n",
        "    if not heights:\n",
        "        return 0\n",
        "\n",
        "    n = len(heights)\n",
        "    left_max = [0] * n\n",
        "    right_max = [0] * n\n",
        "\n",
        "    left_max[0] = heights[0]\n",
        "    for i in range(1, n):\n",
        "        left_max[i] = max(left_max[i - 1], heights[i])\n",
        "\n",
        "    right_max[n - 1] = heights[n - 1]\n",
        "    for i in range(n - 2, -1, -1):\n",
        "        right_max[i] = max(right_max[i + 1], heights[i])\n",
        "\n",
        "    water_trapped = 0\n",
        "    for i in range(n):\n",
        "        water_trapped += min(left_max[i], right_max[i]) - heights[i]\n",
        "\n",
        "    return water_trapped\n",
        "\n",
        "# Example usage:\n",
        "heights = [2,4,1,5,2]\n",
        "result = trap(heights)\n",
        "print(\"Trapped Rainwater:\", result)\n"
      ]
    },
    {
      "cell_type": "markdown",
      "source": [
        "# Bit Manipulation"
      ],
      "metadata": {
        "id": "OE8QRjTi9BgI"
      }
    },
    {
      "cell_type": "markdown",
      "source": [
        "## 1.\tSingle Number 2"
      ],
      "metadata": {
        "id": "3MOgzubj845O"
      }
    },
    {
      "cell_type": "code",
      "source": [
        "def singleNumber(nums):\n",
        "    result = 0\n",
        "    for i in range(32):  # We assume 32-bit integers\n",
        "        count = 0\n",
        "        # Count the number of set bits at the i-th bit position for all elements\n",
        "        for num in nums:\n",
        "            count += (num >> i) & 1\n",
        "        # If the count is not a multiple of 3, set the i-th bit in the result\n",
        "        if count % 3 != 0:\n",
        "            result |= (1 << i)\n",
        "    # Handle negative numbers by checking if the most significant bit is set\n",
        "    if result >= 2**31:\n",
        "        result -= 2**32\n",
        "    return result\n",
        "\n",
        "# Example usage:\n",
        "nums = [2, 2, 3, 2]\n",
        "unique_number = singleNumber(nums)\n",
        "print(\"Unique Number:\", unique_number)\n"
      ],
      "metadata": {
        "colab": {
          "base_uri": "https://localhost:8080/"
        },
        "id": "bdJMzL5d8c7B",
        "outputId": "47a423f1-dcfd-43a3-fc98-76ea3072451d"
      },
      "execution_count": null,
      "outputs": [
        {
          "output_type": "stream",
          "name": "stdout",
          "text": [
            "Unique Number: 3\n"
          ]
        }
      ]
    },
    {
      "cell_type": "code",
      "source": [
        "def singleNumber(nums):\n",
        "    ones, twos = 0, 0\n",
        "\n",
        "    for num in nums:\n",
        "        ones = (ones ^ num) & ~twos\n",
        "        twos = (twos ^ num) & ~ones\n",
        "\n",
        "    return ones\n",
        "\n",
        "# Example usage:\n",
        "nums = [2, 2, 3, 2]\n",
        "result = singleNumber(nums)\n",
        "print(\"The single number that occurs once:\", result)\n"
      ],
      "metadata": {
        "colab": {
          "base_uri": "https://localhost:8080/"
        },
        "id": "zlZZUeFd91C5",
        "outputId": "eb058567-8339-4a4a-c669-a4e60f3825cb"
      },
      "execution_count": null,
      "outputs": [
        {
          "output_type": "stream",
          "name": "stdout",
          "text": [
            "The single number that occurs once: 3\n"
          ]
        }
      ]
    },
    {
      "cell_type": "markdown",
      "source": [
        "## Single Number 3"
      ],
      "metadata": {
        "id": "nFN-laOc_j0n"
      }
    },
    {
      "cell_type": "code",
      "source": [
        "def singleNumber(nums):\n",
        "    # Find XOR of all numbers in the array\n",
        "    xor_result = 0\n",
        "    for num in nums:\n",
        "        xor_result ^= num\n",
        "\n",
        "    # Find a set bit in xor_result, which separates the two unique numbers\n",
        "    diff_bit = 1\n",
        "    while (xor_result & diff_bit) == 0:\n",
        "        diff_bit <<= 1\n",
        "\n",
        "    # Initialize variables to store the two unique numbers\n",
        "    unique1 = 0\n",
        "    unique2 = 0\n",
        "\n",
        "    # Separate the numbers into two groups based on the different bit\n",
        "    for num in nums:\n",
        "        if (num & diff_bit) == 0:\n",
        "            print(\"1\",unique1, num, unique1 ^ num, diff_bit)\n",
        "            unique1 ^= num\n",
        "\n",
        "        else:\n",
        "            print(\"2\",unique2, num, unique2 ^ num, diff_bit)\n",
        "            unique2 ^= num\n",
        "\n",
        "    return [unique1, unique2]\n",
        "\n",
        "# Example usage:\n",
        "nums = [4, 5, 6, 7, 6, 4]\n",
        "result = singleNumber(nums)\n",
        "print(\"Unique Numbers:\", result)\n"
      ],
      "metadata": {
        "colab": {
          "base_uri": "https://localhost:8080/"
        },
        "id": "7teOpweS-E_f",
        "outputId": "6ded64cf-2c84-4364-83e1-2ec32328676c"
      },
      "execution_count": null,
      "outputs": [
        {
          "output_type": "stream",
          "name": "stdout",
          "text": [
            "1 0 4 4 2\n",
            "1 4 5 1 2\n",
            "2 0 6 6 2\n",
            "2 6 7 1 2\n",
            "2 1 6 7 2\n",
            "1 1 4 5 2\n",
            "Unique Numbers: [5, 7]\n"
          ]
        }
      ]
    },
    {
      "cell_type": "markdown",
      "source": [
        "# Sorting"
      ],
      "metadata": {
        "id": "Faq2boqKFyd4"
      }
    },
    {
      "cell_type": "markdown",
      "source": [
        "## 1.\tMerge Sort"
      ],
      "metadata": {
        "id": "O6YmsU4PF0TX"
      }
    },
    {
      "cell_type": "code",
      "source": [
        "def merge_sort(arr):\n",
        "    if len(arr) <= 1:\n",
        "        return arr\n",
        "\n",
        "    # Split the input array into two halves\n",
        "    mid = len(arr) // 2\n",
        "    left_half = arr[:mid]\n",
        "    right_half = arr[mid:]\n",
        "\n",
        "    # Recursively sort each half\n",
        "    left_half = merge_sort(left_half)\n",
        "    right_half = merge_sort(right_half)\n",
        "\n",
        "    # Merge the sorted halves\n",
        "    sorted_arr = merge(left_half, right_half)\n",
        "\n",
        "    return sorted_arr\n",
        "\n",
        "def merge(left, right):\n",
        "    merged = []\n",
        "    left_idx, right_idx = 0, 0\n",
        "\n",
        "    # Merge the two halves while maintaining sorted order\n",
        "    while left_idx < len(left) and right_idx < len(right):\n",
        "        if left[left_idx] < right[right_idx]:\n",
        "            merged.append(left[left_idx])\n",
        "            left_idx += 1\n",
        "        else:\n",
        "            merged.append(right[right_idx])\n",
        "            right_idx += 1\n",
        "\n",
        "    # Append any remaining elements from both halves\n",
        "    merged.extend(left[left_idx:])\n",
        "    merged.extend(right[right_idx:])\n",
        "\n",
        "    return merged\n",
        "\n",
        "# Example usage:\n",
        "arr = [12, 11, 13, 5, 6, 7]\n",
        "sorted_arr = merge_sort(arr)\n",
        "print(\"Sorted Array:\", sorted_arr)\n"
      ],
      "metadata": {
        "id": "n3E9tDtJBnjn",
        "colab": {
          "base_uri": "https://localhost:8080/"
        },
        "outputId": "5fbe5fd7-b959-41a8-b834-27dc5f447b06"
      },
      "execution_count": 15,
      "outputs": [
        {
          "output_type": "stream",
          "name": "stdout",
          "text": [
            "Sorted Array: [5, 6, 7, 11, 12, 13]\n"
          ]
        }
      ]
    },
    {
      "cell_type": "markdown",
      "source": [
        "# Searching"
      ],
      "metadata": {
        "id": "8axOCkTHHMb4"
      }
    },
    {
      "cell_type": "markdown",
      "source": [
        "## 1.\tRotated Sorted Array Search"
      ],
      "metadata": {
        "id": "hpGUvdPxHPGQ"
      }
    },
    {
      "cell_type": "code",
      "source": [
        "def search(nums, target):\n",
        "    left, right = 0, len(nums) - 1\n",
        "\n",
        "    while left <= right:\n",
        "        mid = (left + right) // 2\n",
        "\n",
        "        if nums[mid] == target:\n",
        "            return mid\n",
        "\n",
        "        if nums[left] <= nums[mid]:\n",
        "            if nums[left] <= target < nums[mid]:\n",
        "                right = mid - 1\n",
        "            else:\n",
        "                left = mid + 1\n",
        "        else:\n",
        "            if nums[mid] < target <= nums[right]:\n",
        "                left = mid + 1\n",
        "            else:\n",
        "                right = mid - 1\n",
        "\n",
        "    return -1\n",
        "\n",
        "# Example usage:\n",
        "nums = [4, 5, 6, 7, 0, 1, 2]\n",
        "target = 0\n",
        "result = search(nums, target)\n",
        "print(\"Target found at index:\", result)\n"
      ],
      "metadata": {
        "colab": {
          "base_uri": "https://localhost:8080/"
        },
        "id": "AAwEUxWUGQ1a",
        "outputId": "ec0643ac-913f-46bc-8a6c-a8c54174b56d"
      },
      "execution_count": 16,
      "outputs": [
        {
          "output_type": "stream",
          "name": "stdout",
          "text": [
            "Target found at index: 4\n"
          ]
        }
      ]
    },
    {
      "cell_type": "markdown",
      "source": [
        "## 2.\tPainters Partition Problem"
      ],
      "metadata": {
        "id": "NX2GdaYkJZ4o"
      }
    },
    {
      "cell_type": "code",
      "source": [
        "def is_valid(mid, boards, painters):\n",
        "    total_painters = 1\n",
        "    current_paint_length = 0\n",
        "\n",
        "    for board in boards:\n",
        "        if current_paint_length + board > mid:\n",
        "            total_painters += 1\n",
        "            current_paint_length = board\n",
        "        else:\n",
        "            current_paint_length += board\n",
        "\n",
        "    return total_painters <= painters\n",
        "\n",
        "def partition(boards, painters):\n",
        "    left = max(boards)\n",
        "    right = sum(boards)\n",
        "\n",
        "    while left < right:\n",
        "        mid = left + (right - left) // 2\n",
        "\n",
        "        if is_valid(mid, boards, painters):\n",
        "            right = mid\n",
        "        else:\n",
        "            left = mid + 1\n",
        "\n",
        "    return left\n",
        "\n",
        "# Example usage:\n",
        "boards = [10, 20, 30, 40]\n",
        "painters = 2\n",
        "result = partition(boards, painters)\n",
        "print(\"Minimum Time Required:\", result)\n"
      ],
      "metadata": {
        "colab": {
          "base_uri": "https://localhost:8080/"
        },
        "id": "_7MDcnBnIfCS",
        "outputId": "cd25f575-bd4f-4c60-d50b-701c2fdb97e7"
      },
      "execution_count": 19,
      "outputs": [
        {
          "output_type": "stream",
          "name": "stdout",
          "text": [
            "Minimum Time Required: 60\n"
          ]
        }
      ]
    },
    {
      "cell_type": "markdown",
      "source": [
        "# Two Pointers"
      ],
      "metadata": {
        "id": "Du1V1zKuOV9Y"
      }
    },
    {
      "cell_type": "markdown",
      "source": [
        "## Pairs with given sum II"
      ],
      "metadata": {
        "id": "hq5XWsxiOcFX"
      }
    },
    {
      "cell_type": "code",
      "source": [
        "def find_pairs_with_sum(arr, target):\n",
        "    pairs = []\n",
        "    left, right = 0, len(arr) - 1\n",
        "\n",
        "    while left < right:\n",
        "        current_sum = arr[left] + arr[right]\n",
        "\n",
        "        if current_sum == target:\n",
        "            pairs.append((arr[left], arr[right]))\n",
        "            left += 1\n",
        "            right -= 1\n",
        "        elif current_sum < target:\n",
        "            left += 1\n",
        "        else:\n",
        "            right -= 1\n",
        "\n",
        "    return pairs\n",
        "\n",
        "# Example usage:\n",
        "arr = [1, 2, 3, 4, 5, 6, 7, 8, 9]\n",
        "target = 9\n",
        "result = find_pairs_with_sum(arr, target)\n",
        "print(\"Pairs with Sum\", target, \":\", result)\n"
      ],
      "metadata": {
        "colab": {
          "base_uri": "https://localhost:8080/"
        },
        "id": "_FgV7o1XOVlG",
        "outputId": "527f5313-08e2-4b37-82f4-8a92ad730df5"
      },
      "execution_count": 21,
      "outputs": [
        {
          "output_type": "stream",
          "name": "stdout",
          "text": [
            "Pairs with Sum 9 : [(1, 8), (2, 7), (3, 6), (4, 5)]\n"
          ]
        }
      ]
    },
    {
      "cell_type": "code",
      "source": [],
      "metadata": {
        "id": "LF6JC37zQfDZ"
      },
      "execution_count": null,
      "outputs": []
    },
    {
      "cell_type": "markdown",
      "source": [
        "# Hashing"
      ],
      "metadata": {
        "id": "XYLCdAvDOjoi"
      }
    },
    {
      "cell_type": "markdown",
      "source": [
        "## Longest Subarray Zero Sum"
      ],
      "metadata": {
        "id": "YSoTHa_tOkNZ"
      }
    },
    {
      "cell_type": "code",
      "source": [
        "def longest_subarray_with_zero_sum(arr):\n",
        "    prefix_sum = {}  # Create a dictionary to store prefix sums\n",
        "    max_length = 0\n",
        "    current_sum = 0\n",
        "\n",
        "    for i, num in enumerate(arr):\n",
        "        current_sum += num\n",
        "\n",
        "        if current_sum == 0:\n",
        "            max_length = i + 1  # The entire subarray from the beginning has zero sum\n",
        "\n",
        "        if current_sum in prefix_sum:\n",
        "            max_length = max(max_length, i - prefix_sum[current_sum])\n",
        "        else:\n",
        "            prefix_sum[current_sum] = i\n",
        "\n",
        "    return max_length\n",
        "\n",
        "# Example usage:\n",
        "arr = [15, -2, 2, -8, 1, 7, 10, 23]\n",
        "result = longest_subarray_with_zero_sum(arr)\n",
        "print(\"Length of Longest Subarray with Zero Sum:\", result)\n"
      ],
      "metadata": {
        "colab": {
          "base_uri": "https://localhost:8080/"
        },
        "id": "IFMAUQcROtUF",
        "outputId": "3a8d1474-7eca-45d2-a470-8f360629a783"
      },
      "execution_count": 22,
      "outputs": [
        {
          "output_type": "stream",
          "name": "stdout",
          "text": [
            "Length of Longest Subarray with Zero Sum: 5\n"
          ]
        }
      ]
    },
    {
      "cell_type": "markdown",
      "source": [
        "# LinkedList"
      ],
      "metadata": {
        "id": "njczrCOaOw7U"
      }
    },
    {
      "cell_type": "markdown",
      "source": [
        "## Remove Loop from Linked List"
      ],
      "metadata": {
        "id": "vUf7wMtsOyRE"
      }
    },
    {
      "cell_type": "code",
      "source": [
        "class ListNode:\n",
        "    def __init__(self, value):\n",
        "        self.value = value\n",
        "        self.next = None\n",
        "\n",
        "def detect_and_remove_loop(head):\n",
        "    # Detect the loop using Floyd's Tortoise and Hare algorithm\n",
        "    slow = head\n",
        "    fast = head\n",
        "\n",
        "    while fast is not None and fast.next is not None:\n",
        "        slow = slow.next\n",
        "        fast = fast.next.next\n",
        "\n",
        "        if slow == fast:\n",
        "            break\n",
        "\n",
        "    # If no loop is found, return None (no loop to remove)\n",
        "    if fast is None or fast.next is None:\n",
        "        return None\n",
        "\n",
        "    # Move one of the pointers back to the head\n",
        "    slow = head\n",
        "\n",
        "    # Find the start of the loop using Floyd's cycle-finding algorithm\n",
        "    while slow != fast:\n",
        "        slow = slow.next\n",
        "        fast = fast.next\n",
        "\n",
        "    # Now slow and fast are at the starting point of the loop\n",
        "    # Move fast to the node just before the loop\n",
        "    while fast.next != slow:\n",
        "        fast = fast.next\n",
        "\n",
        "    # Break the loop by setting the next pointer of the last node in the loop to None\n",
        "    fast.next = None\n",
        "\n",
        "    return head\n",
        "\n",
        "# Example usage:\n",
        "# Create a linked list with a loop\n",
        "node1 = ListNode(1)\n",
        "node2 = ListNode(2)\n",
        "node3 = ListNode(3)\n",
        "node4 = ListNode(4)\n",
        "node5 = ListNode(5)\n",
        "node6 = ListNode(6)\n",
        "\n",
        "node1.next = node2\n",
        "node2.next = node3\n",
        "node3.next = node4\n",
        "node4.next = node5\n",
        "node5.next = node6\n",
        "node6.next = node3  # Creating a loop\n",
        "\n",
        "# Detect and remove the loop\n",
        "result = detect_and_remove_loop(node1)\n",
        "\n",
        "# Print the modified linked list\n",
        "while result:\n",
        "    print(result.value, end=\" -> \")\n",
        "    result = result.next\n"
      ],
      "metadata": {
        "colab": {
          "base_uri": "https://localhost:8080/"
        },
        "id": "0fPAxLzhO29o",
        "outputId": "25e38b0c-9dba-4684-c053-8a0c37dea7f3"
      },
      "execution_count": 23,
      "outputs": [
        {
          "output_type": "stream",
          "name": "stdout",
          "text": [
            "1 -> 2 -> 3 -> 4 -> 5 -> 6 -> "
          ]
        }
      ]
    },
    {
      "cell_type": "markdown",
      "source": [
        "# Stack"
      ],
      "metadata": {
        "id": "1m8x_9rlO54q"
      }
    },
    {
      "cell_type": "markdown",
      "source": [
        "## Balanced Paranthesis"
      ],
      "metadata": {
        "id": "qLB2VGXNO8TN"
      }
    },
    {
      "cell_type": "code",
      "source": [
        "def is_balanced_parentheses(s):\n",
        "    stack = []\n",
        "\n",
        "    # Define a dictionary to map closing parentheses to their corresponding opening parentheses\n",
        "    parentheses_map = {')': '(', '}': '{', ']': '['}\n",
        "\n",
        "    for char in s:\n",
        "        if char in '({[':\n",
        "            stack.append(char)  # Push opening parentheses onto the stack\n",
        "        elif char in ')}]':\n",
        "            if not stack or stack.pop() != parentheses_map[char]:\n",
        "                return False  # Mismatched closing parenthesis or empty stack\n",
        "\n",
        "    return not stack  # If the stack is empty, all parentheses are balanced\n",
        "\n",
        "# Example usage:\n",
        "s1 = \"(){}[]\"\n",
        "s2 = \"({[})\"\n",
        "s3 = \"{[()]}\"\n",
        "print(is_balanced_parentheses(s1))  # True\n",
        "print(is_balanced_parentheses(s2))  # False\n",
        "print(is_balanced_parentheses(s3))  # True\n"
      ],
      "metadata": {
        "colab": {
          "base_uri": "https://localhost:8080/"
        },
        "id": "aFh_RWfmO9mF",
        "outputId": "dd13c86c-0752-4aa3-e943-0aa969c6e933"
      },
      "execution_count": 24,
      "outputs": [
        {
          "output_type": "stream",
          "name": "stdout",
          "text": [
            "True\n",
            "False\n",
            "True\n"
          ]
        }
      ]
    },
    {
      "cell_type": "markdown",
      "source": [
        "## Largest rectangle in histogram"
      ],
      "metadata": {
        "id": "d38tfIVEPA84"
      }
    },
    {
      "cell_type": "code",
      "source": [
        "def largest_rectangle_area(heights):\n",
        "    stack = []\n",
        "    max_area = 0\n",
        "\n",
        "    for i in range(len(heights)):\n",
        "        while stack and heights[i] < heights[stack[-1]]:\n",
        "            height = heights[stack.pop()]\n",
        "            width = i if not stack else i - stack[-1] - 1\n",
        "            max_area = max(max_area, height * width)\n",
        "        stack.append(i)\n",
        "\n",
        "    while stack:\n",
        "        height = heights[stack.pop()]\n",
        "        width = len(heights) if not stack else len(heights) - stack[-1] - 1\n",
        "        max_area = max(max_area, height * width)\n",
        "\n",
        "    return max_area\n",
        "\n",
        "# Example usage:\n",
        "histogram = [2, 1, 5, 6, 2, 3]\n",
        "result = largest_rectangle_area(histogram)\n",
        "print(\"Largest Rectangle Area:\", result)\n"
      ],
      "metadata": {
        "colab": {
          "base_uri": "https://localhost:8080/"
        },
        "id": "4WcACdoXPCZ5",
        "outputId": "fd1a4086-303c-4c39-cdb0-56e7596800db"
      },
      "execution_count": 26,
      "outputs": [
        {
          "output_type": "stream",
          "name": "stdout",
          "text": [
            "Largest Rectangle Area: 10\n"
          ]
        }
      ]
    },
    {
      "cell_type": "code",
      "source": [
        "class Solution:\n",
        "\n",
        "\tdef largestRectangleArea(self, A):\n",
        "\n",
        "   left_ns = self.nearestSmallLeft(A)\n",
        "   right_ns = self.nearestSmallRight(A)\n",
        "\n",
        "   #print(left_ns)\n",
        "   #print(right_ns)\n",
        "\n",
        "   n = len(A)\n",
        "\n",
        "   rect_area = []\n",
        "\n",
        "   for i, v in enumerate(A):\n",
        "\n",
        "       left_idx = -1 if left_ns[i] == -1 else left_ns[i]\n",
        "       right_idx = n if right_ns[i] == -1 else right_ns[i]\n",
        "\n",
        "       area = v * (right_idx - (left_idx + 1))\n",
        "\n",
        "       rect_area.append(area)\n",
        "\n",
        "   #max_area = float('-inf')\n",
        "\n",
        "   #for i in rect_area:\n",
        "       #max_area = max(max_area, i)\n",
        "\n",
        "   return max(rect_area)\n",
        "\n",
        "\n",
        "  def nearestSmallLeft(self, A):\n",
        "\n",
        "      stk = []\n",
        "      ans = []\n",
        "\n",
        "      n = len(A)\n",
        "\n",
        "      for i in range(0,n):\n",
        "\n",
        "          while len(stk) > 0 and A[stk[-1]] >= A[i]:\n",
        "              stk.pop()\n",
        "\n",
        "          if len(stk) == 0:\n",
        "              ans.append(-1)\n",
        "          else:\n",
        "              ans.append(stk[-1])\n",
        "\n",
        "          stk.append(i)\n",
        "\n",
        "      return ans\n",
        "\n",
        "  def nearestSmallRight(self, A):\n",
        "\n",
        "      stk = []\n",
        "      n= len(A)\n",
        "\n",
        "      ans = [0] * n\n",
        "\n",
        "      for i in range(n-1,-1,-1):\n",
        "\n",
        "          while len(stk) > 0 and A[stk[-1]] >= A[i]:\n",
        "              stk.pop()\n",
        "\n",
        "          if len(stk) == 0:\n",
        "              ans[i] = -1\n",
        "          else:\n",
        "              ans[i] = stk[-1]\n",
        "\n",
        "          stk.append(i)\n",
        "\n",
        "      return ans\n"
      ],
      "metadata": {
        "colab": {
          "base_uri": "https://localhost:8080/",
          "height": 140
        },
        "id": "XjdqUd6wbYgK",
        "outputId": "0f38f91d-3577-441b-9073-ec791262a85f"
      },
      "execution_count": 32,
      "outputs": [
        {
          "output_type": "error",
          "ename": "IndentationError",
          "evalue": "ignored",
          "traceback": [
            "\u001b[0;36m  File \u001b[0;32m\"<tokenize>\"\u001b[0;36m, line \u001b[0;32m5\u001b[0m\n\u001b[0;31m    left_ns = self.nearestSmallLeft(A)\u001b[0m\n\u001b[0m    ^\u001b[0m\n\u001b[0;31mIndentationError\u001b[0m\u001b[0;31m:\u001b[0m unindent does not match any outer indentation level\n"
          ]
        }
      ]
    },
    {
      "cell_type": "markdown",
      "source": [
        "# Queues"
      ],
      "metadata": {
        "id": "gU35idcZPDeR"
      }
    },
    {
      "cell_type": "markdown",
      "source": [
        "## LRU Cache"
      ],
      "metadata": {
        "id": "Up7Z-jduPHEG"
      }
    },
    {
      "cell_type": "code",
      "source": [
        "import heapq\n",
        "\n",
        "class LRUCache:\n",
        "    def __init__(self, capacity):\n",
        "        self.capacity = capacity\n",
        "        self.cache = {}  # Dictionary to store key-value pairs\n",
        "        self.priority_queue = []  # Min-heap to store (timestamp, key) tuples\n",
        "        self.timestamp = 0\n",
        "\n",
        "    def get(self, key):\n",
        "        if key in self.cache:\n",
        "            # Update the timestamp and reorder the priority queue\n",
        "            self.timestamp += 1\n",
        "            heapq.heappush(self.priority_queue, (self.timestamp, key))\n",
        "            return self.cache[key]\n",
        "        else:\n",
        "            return -1  # Key not found\n",
        "\n",
        "    def put(self, key, value):\n",
        "        if len(self.cache) >= self.capacity:\n",
        "            # Evict the least recently used element\n",
        "            while self.priority_queue:\n",
        "                timestamp, old_key = heapq.heappop(self.priority_queue)\n",
        "                if old_key in self.cache:\n",
        "                    del self.cache[old_key]\n",
        "                    break\n",
        "\n",
        "        # Add the new key-value pair and update the timestamp\n",
        "        self.cache[key] = value\n",
        "        self.timestamp += 1\n",
        "        heapq.heappush(self.priority_queue, (self.timestamp, key))\n",
        "\n",
        "# Example usage:\n",
        "cache = LRUCache(2)\n",
        "cache.put(1, 1)\n",
        "cache.put(2, 2)\n",
        "print(cache.get(1))  # Output: 1\n",
        "cache.put(3, 3)  # Evicts key 2\n",
        "print(cache.get(2))  # Output: -1 (not found)\n"
      ],
      "metadata": {
        "colab": {
          "base_uri": "https://localhost:8080/"
        },
        "id": "RnF1hZp5PFzh",
        "outputId": "4b502c32-ac8e-4b52-89b1-9652b43af172"
      },
      "execution_count": 1,
      "outputs": [
        {
          "output_type": "stream",
          "name": "stdout",
          "text": [
            "1\n",
            "2\n"
          ]
        }
      ]
    },
    {
      "cell_type": "code",
      "source": [
        "from collections import OrderedDict\n",
        "\n",
        "class LRUCache:\n",
        "\n",
        "\t# initialising capacity\n",
        "\tdef __init__(self, capacity: int):\n",
        "\t\tself.cache = OrderedDict()\n",
        "\t\tself.capacity = capacity\n",
        "\n",
        "\t# we return the value of the key\n",
        "\t# that is queried in O(1) and return -1 if we\n",
        "\t# don't find the key in out dict / cache.\n",
        "\t# And also move the key to the end\n",
        "\t# to show that it was recently used.\n",
        "\tdef get(self, key: int) -> int:\n",
        "\t\tif key not in self.cache:\n",
        "\t\t\treturn -1\n",
        "\t\telse:\n",
        "\t\t\tself.cache.move_to_end(key)\n",
        "\t\t\treturn self.cache[key]\n",
        "\n",
        "\t# first, we add / update the key by conventional methods.\n",
        "\t# And also move the key to the end to show that it was recently used.\n",
        "\t# But here we will also check whether the length of our\n",
        "\t# ordered dictionary has exceeded our capacity,\n",
        "\t# If so we remove the first key (least recently used)\n",
        "\tdef put(self, key: int, value: int) -> None:\n",
        "\t\tself.cache[key] = value\n",
        "\t\tself.cache.move_to_end(key)\n",
        "\t\tif len(self.cache) > self.capacity:\n",
        "\t\t\tself.cache.popitem(last = False)\n",
        "\n",
        "\n",
        "# RUNNER\n",
        "# initializing our cache with the capacity of 2\n",
        "cache = LRUCache(2)\n",
        "\n",
        "\n",
        "cache.put(1, 1)\n",
        "print(cache.cache)\n",
        "cache.put(2, 2)\n",
        "print(cache.cache)\n",
        "cache.get(1)\n",
        "print(cache.cache)\n",
        "cache.put(3, 3)\n",
        "print(cache.cache)\n",
        "cache.get(2)\n",
        "print(cache.cache)\n",
        "cache.put(4, 4)\n",
        "print(cache.cache)\n",
        "cache.get(1)\n",
        "print(cache.cache)\n",
        "cache.get(3)\n",
        "print(cache.cache)\n",
        "cache.get(4)\n",
        "print(cache.cache)\n",
        "\n",
        "#This code was contributed by Sachin Negi\n"
      ],
      "metadata": {
        "colab": {
          "base_uri": "https://localhost:8080/"
        },
        "id": "FHwdNSgyP886",
        "outputId": "ed6542b5-a503-495d-fb7a-a44047b6227b"
      },
      "execution_count": 2,
      "outputs": [
        {
          "output_type": "stream",
          "name": "stdout",
          "text": [
            "OrderedDict([(1, 1)])\n",
            "OrderedDict([(1, 1), (2, 2)])\n",
            "OrderedDict([(2, 2), (1, 1)])\n",
            "OrderedDict([(1, 1), (3, 3)])\n",
            "OrderedDict([(1, 1), (3, 3)])\n",
            "OrderedDict([(3, 3), (4, 4)])\n",
            "OrderedDict([(3, 3), (4, 4)])\n",
            "OrderedDict([(4, 4), (3, 3)])\n",
            "OrderedDict([(3, 3), (4, 4)])\n"
          ]
        }
      ]
    },
    {
      "cell_type": "markdown",
      "source": [
        "## Queue using stack"
      ],
      "metadata": {
        "id": "ZevMeyQqPOOx"
      }
    },
    {
      "cell_type": "code",
      "source": [
        "# Python3 program to implement Queue using\n",
        "# two stacks with costly enQueue()\n",
        "\n",
        "class Queue:\n",
        "\tdef __init__(self):\n",
        "\t\tself.s1 = []\n",
        "\t\tself.s2 = []\n",
        "\n",
        "\tdef enQueue(self, x):\n",
        "\n",
        "\t\t# Move all elements from s1 to s2\n",
        "\t\twhile len(self.s1) != 0:\n",
        "\t\t\tself.s2.append(self.s1[-1])\n",
        "\t\t\tself.s1.pop()\n",
        "\n",
        "\t\t# Push item into self.s1\n",
        "\t\tself.s1.append(x)\n",
        "\n",
        "\t\t# Push everything back to s1\n",
        "\t\twhile len(self.s2) != 0:\n",
        "\t\t\tself.s1.append(self.s2[-1])\n",
        "\t\t\tself.s2.pop()\n",
        "\n",
        "\t# Dequeue an item from the queue\n",
        "\tdef deQueue(self):\n",
        "\n",
        "\t\t\t# if first stack is empty\n",
        "\t\tif len(self.s1) == 0:\n",
        "\t\t\treturn -1;\n",
        "\n",
        "\t\t# Return top of self.s1\n",
        "\t\tx = self.s1[-1]\n",
        "\t\tself.s1.pop()\n",
        "\t\treturn x\n",
        "\n",
        "# Driver code\n",
        "if __name__ == '__main__':\n",
        "\tq = Queue()\n",
        "\tq.enQueue(1)\n",
        "\tq.enQueue(2)\n",
        "\tq.enQueue(3)\n",
        "\n",
        "\tprint(q.deQueue())\n",
        "\tprint(q.deQueue())\n",
        "\tprint(q.deQueue())\n"
      ],
      "metadata": {
        "colab": {
          "base_uri": "https://localhost:8080/"
        },
        "id": "5lbOdzLoPP-r",
        "outputId": "fe37811d-4cec-4f3e-afd5-9ba1dc0d7243"
      },
      "execution_count": 4,
      "outputs": [
        {
          "output_type": "stream",
          "name": "stdout",
          "text": [
            "1\n",
            "2\n",
            "3\n"
          ]
        }
      ]
    },
    {
      "cell_type": "markdown",
      "source": [
        "# Trees"
      ],
      "metadata": {
        "id": "W7RbFQLbPSl4"
      }
    },
    {
      "cell_type": "markdown",
      "source": [
        "## Zig Zag level Order"
      ],
      "metadata": {
        "id": "bj0OvdRtPVA3"
      }
    },
    {
      "cell_type": "code",
      "source": [
        "class TreeNode:\n",
        "    def __init__(self, value):\n",
        "        self.value = value\n",
        "        self.left = None\n",
        "        self.right = None\n",
        "\n",
        "def zigzag_level_order(root):\n",
        "    if not root:\n",
        "        return []\n",
        "\n",
        "    result = []\n",
        "    level = 0\n",
        "    queue = [root]\n",
        "\n",
        "    while queue:\n",
        "        level_vals = []  # Store values at the current level\n",
        "        next_level = []  # Store nodes at the next level\n",
        "\n",
        "        while queue:\n",
        "            node = queue.pop(0)\n",
        "\n",
        "            # Add the node's value to the current level\n",
        "            level_vals.append(node.value)\n",
        "\n",
        "            # Add child nodes to the next level in the appropriate order\n",
        "            if node.left:\n",
        "                next_level.append(node.left)\n",
        "            if node.right:\n",
        "                next_level.append(node.right)\n",
        "\n",
        "        # Depending on the level, append the values in the appropriate order\n",
        "        if level % 2 == 0:\n",
        "            result.append(level_vals)\n",
        "        else:\n",
        "            result.append(level_vals[::-1])\n",
        "\n",
        "        # Update the queue for the next level\n",
        "        queue = next_level\n",
        "        level += 1\n",
        "\n",
        "    return result\n",
        "\n",
        "# Example usage:\n",
        "root = TreeNode(3)\n",
        "root.left = TreeNode(9)\n",
        "root.right = TreeNode(20)\n",
        "root.right.left = TreeNode(15)\n",
        "root.right.right = TreeNode(7)\n",
        "\n",
        "result = zigzag_level_order(root)\n",
        "print(\"Zigzag Level Order Traversal:\", result)\n"
      ],
      "metadata": {
        "colab": {
          "base_uri": "https://localhost:8080/"
        },
        "id": "ZGtQ_yQYPYGr",
        "outputId": "93ef77cc-69c5-4087-a751-87b0a4e2f977"
      },
      "execution_count": 5,
      "outputs": [
        {
          "output_type": "stream",
          "name": "stdout",
          "text": [
            "Zigzag Level Order Traversal: [[3], [20, 9], [15, 7]]\n"
          ]
        }
      ]
    },
    {
      "cell_type": "markdown",
      "source": [
        "## Binarty Tree from In and PreOrder"
      ],
      "metadata": {
        "id": "Nczxoe0sPb6o"
      }
    },
    {
      "cell_type": "code",
      "source": [
        "class TreeNode:\n",
        "    def __init__(self, value):\n",
        "        self.value = value\n",
        "        self.left = None\n",
        "        self.right = None\n",
        "\n",
        "def build_tree(inorder, preorder):\n",
        "    if not inorder or not preorder:\n",
        "        return None\n",
        "\n",
        "    # The first element in the preorder traversal is the root\n",
        "    root_val = preorder.pop(0)\n",
        "    root = TreeNode(root_val)\n",
        "\n",
        "    # Find the root's index in the inorder traversal\n",
        "    root_index = inorder.index(root_val)\n",
        "\n",
        "    # Recursively build the left and right subtrees\n",
        "    root.left = build_tree(inorder[:root_index], preorder)\n",
        "    root.right = build_tree(inorder[root_index + 1:], preorder)\n",
        "\n",
        "    return root\n",
        "\n",
        "def inorder_traversal(root):\n",
        "    if not root:\n",
        "        return []\n",
        "    return inorder_traversal(root.left) + [root.value] + inorder_traversal(root.right)\n",
        "\n",
        "def preorder_traversal(root):\n",
        "    if not root:\n",
        "        return []\n",
        "    return [root.value] + preorder_traversal(root.left) + preorder_traversal(root.right)\n",
        "\n",
        "# Example usage:\n",
        "inorder = [9, 3, 15, 20, 7]\n",
        "preorder = [3, 9, 20, 15, 7]\n",
        "\n",
        "root = build_tree(inorder, preorder)\n",
        "inorder_result = inorder_traversal(root)\n",
        "preorder_result = preorder_traversal(root)\n",
        "\n",
        "print(\"Inorder Traversal:\", inorder_result)\n",
        "print(\"Preorder Traversal:\", preorder_result)\n"
      ],
      "metadata": {
        "colab": {
          "base_uri": "https://localhost:8080/"
        },
        "id": "5IlnjV9IPeyh",
        "outputId": "3e18e32c-2802-4bc2-95a5-1be2aefbeee6"
      },
      "execution_count": 6,
      "outputs": [
        {
          "output_type": "stream",
          "name": "stdout",
          "text": [
            "Inorder Traversal: [9, 3, 15, 20, 7]\n",
            "Preorder Traversal: [3, 9, 20, 15, 7]\n"
          ]
        }
      ]
    },
    {
      "cell_type": "markdown",
      "source": [
        "## Diameter of Binary Tree"
      ],
      "metadata": {
        "id": "FW42nChePfVo"
      }
    },
    {
      "cell_type": "code",
      "source": [
        "class TreeNode:\n",
        "    def __init__(self, value):\n",
        "        self.value = value\n",
        "        self.left = None\n",
        "        self.right = None\n",
        "\n",
        "def diameter_of_binary_tree(root):\n",
        "    def dfs(node):\n",
        "        if not node:\n",
        "            return 0\n",
        "\n",
        "        # Recursively find the heights of the left and right subtrees\n",
        "        left_height = dfs(node.left)\n",
        "        right_height = dfs(node.right)\n",
        "\n",
        "        # Update the maximum diameter found so far\n",
        "        nonlocal max_diameter\n",
        "        max_diameter = max(max_diameter, left_height + right_height)\n",
        "\n",
        "        # Return the height of the current subtree\n",
        "        return 1 + max(left_height, right_height)\n",
        "\n",
        "    if not root:\n",
        "        return 0\n",
        "\n",
        "    max_diameter = 0\n",
        "    dfs(root)\n",
        "    return max_diameter\n",
        "\n",
        "# Example usage:\n",
        "root = TreeNode(1)\n",
        "root.left = TreeNode(2)\n",
        "root.right = TreeNode(3)\n",
        "root.left.left = TreeNode(4)\n",
        "root.left.right = TreeNode(5)\n",
        "\n",
        "result = diameter_of_binary_tree(root)\n",
        "print(\"Diameter of Binary Tree:\", result)\n"
      ],
      "metadata": {
        "colab": {
          "base_uri": "https://localhost:8080/"
        },
        "id": "sSM3stPpPiYk",
        "outputId": "5707cf9c-b4ab-48b9-ab45-6d4d0250c1e2"
      },
      "execution_count": 7,
      "outputs": [
        {
          "output_type": "stream",
          "name": "stdout",
          "text": [
            "Diameter of Binary Tree: 3\n"
          ]
        }
      ]
    },
    {
      "cell_type": "markdown",
      "source": [
        "# Heaps"
      ],
      "metadata": {
        "id": "eHES390xPiyL"
      }
    },
    {
      "cell_type": "markdown",
      "source": [
        "## K-Places Apart"
      ],
      "metadata": {
        "id": "aw_2szYoPk-0"
      }
    },
    {
      "cell_type": "code",
      "source": [
        "import heapq\n",
        "\n",
        "def rearrange_k_apart(s, k):\n",
        "    # Count the frequency of each character\n",
        "    char_count = {}\n",
        "    for char in s:\n",
        "        if char in char_count:\n",
        "            char_count[char] += 1\n",
        "        else:\n",
        "            char_count[char] = 1\n",
        "\n",
        "    # Create a max heap (priority queue) to store characters based on their frequencies\n",
        "    max_heap = [(-freq, char) for char, freq in char_count.items()]\n",
        "    heapq.heapify(max_heap)\n",
        "\n",
        "    result = []\n",
        "    queue = []\n",
        "    print(max_heap)\n",
        "    while max_heap:\n",
        "        freq, char = heapq.heappop(max_heap)\n",
        "        # print(char)\n",
        "        # print(max_heap)\n",
        "        freq = -freq  # Convert back to positive frequency\n",
        "\n",
        "        # Add the character to the result and queue\n",
        "        result.append(char)\n",
        "        queue.append((char, freq - 1))\n",
        "        # print(result)\n",
        "        # print(queue)\n",
        "        if len(queue) >= k:\n",
        "            char, remaining_freq = queue.pop(0)\n",
        "            if remaining_freq > 0:\n",
        "                heapq.heappush(max_heap, (-remaining_freq, char))\n",
        "\n",
        "    if len(result) == len(s):\n",
        "        return ''.join(result)\n",
        "    else:\n",
        "        return \"Not possible\"  # Unable to rearrange with K places apart\n",
        "\n",
        "# Example usage:\n",
        "s = \"aaabc\"\n",
        "k = 2\n",
        "result = rearrange_k_apart(s, k)\n",
        "print(\"Rearranged String:\", result)\n"
      ],
      "metadata": {
        "colab": {
          "base_uri": "https://localhost:8080/"
        },
        "id": "3Z5H2DZyPoUJ",
        "outputId": "7d8b0868-99fe-44fa-bcc5-1104019b1dc5"
      },
      "execution_count": 19,
      "outputs": [
        {
          "output_type": "stream",
          "name": "stdout",
          "text": [
            "[(-3, 'a'), (-1, 'b'), (-1, 'c')]\n",
            "Rearranged String: abaca\n"
          ]
        }
      ]
    },
    {
      "cell_type": "markdown",
      "source": [
        "# Greedy"
      ],
      "metadata": {
        "id": "9xI4ITZAPrBB"
      }
    },
    {
      "cell_type": "markdown",
      "source": [
        "## Finish Maximum Jobs"
      ],
      "metadata": {
        "id": "BYo8cfvGPs7A"
      }
    },
    {
      "cell_type": "code",
      "source": [
        "import heapq\n",
        "\n",
        "def maximum_profit_within_deadline(jobs, max_deadline):\n",
        "    # Sort jobs by profit in descending order\n",
        "    jobs.sort(key=lambda x: x[2], reverse=True)\n",
        "\n",
        "    max_profit = 0\n",
        "    selected_jobs = []\n",
        "    current_time = 0\n",
        "\n",
        "    for job in jobs:\n",
        "        deadline, profit = job[1], job[2]\n",
        "        if deadline <= max_deadline and deadline > current_time:\n",
        "            heapq.heappush(selected_jobs, (-profit, job[0]))\n",
        "            max_profit += profit\n",
        "            current_time += 1\n",
        "            max_deadline -= deadline\n",
        "\n",
        "    return max_profit, [job[1] for job in sorted(selected_jobs, key=lambda x: x[1])]\n",
        "\n",
        "# Example usage:\n",
        "jobs = [(\"Job1\", 2, 100), (\"Job2\", 1, 50), (\"Job3\", 2, 200), (\"Job4\", 1, 60), (\"Job5\", 3, 150)]\n",
        "max_deadline = 2  # Set the maximum deadline constraint\n",
        "max_profit, selected_jobs = maximum_profit_within_deadline(jobs, max_deadline)\n",
        "print(\"Maximum Profit within Deadline:\", max_profit)\n",
        "print(\"Selected Jobs within Deadline:\", selected_jobs)\n"
      ],
      "metadata": {
        "colab": {
          "base_uri": "https://localhost:8080/"
        },
        "id": "j3d5zfa9PsK9",
        "outputId": "9d47156a-da8e-4459-c4f3-6cc65b4ae141"
      },
      "execution_count": 22,
      "outputs": [
        {
          "output_type": "stream",
          "name": "stdout",
          "text": [
            "Maximum Profit within Deadline: 200\n",
            "Selected Jobs within Deadline: ['Job3']\n"
          ]
        }
      ]
    },
    {
      "cell_type": "markdown",
      "source": [
        "# Back Tracking"
      ],
      "metadata": {
        "id": "Z-9y8C_QP0Hn"
      }
    },
    {
      "cell_type": "markdown",
      "source": [
        "## N Queens"
      ],
      "metadata": {
        "id": "KqIIaz9RP6Uo"
      }
    },
    {
      "cell_type": "code",
      "source": [
        "def solve_n_queens(n):\n",
        "    def is_safe(board, row, col):\n",
        "        # Check if no queen can attack the current cell (row, col)\n",
        "        # Check the row\n",
        "        for i in range(col):\n",
        "            if board[row][i] == 'Q':\n",
        "                return False\n",
        "        # Check upper-left diagonal\n",
        "        for i, j in zip(range(row, -1, -1), range(col, -1, -1)):\n",
        "            if board[i][j] == 'Q':\n",
        "                return False\n",
        "        # Check lower-left diagonal\n",
        "        for i, j in zip(range(row, n), range(col, -1, -1)):\n",
        "            if board[i][j] == 'Q':\n",
        "                return False\n",
        "        return True\n",
        "\n",
        "    def solve(board, col):\n",
        "        if col == n:\n",
        "            # All queens are placed successfully\n",
        "            result.append([''.join(row) for row in board])\n",
        "            return\n",
        "        for i in range(n):\n",
        "            if is_safe(board, i, col):\n",
        "                board[i][col] = 'Q'\n",
        "                solve(board, col + 1)\n",
        "                board[i][col] = '.'  # Backtrack\n",
        "\n",
        "    result = []\n",
        "    # Initialize an empty chessboard\n",
        "    board = [['.' for _ in range(n)] for _ in range(n)]\n",
        "    solve(board, 0)\n",
        "    return result\n",
        "\n",
        "# Example usage:\n",
        "n = 4  # Change the value of n for different board sizes\n",
        "solutions = solve_n_queens(n)\n",
        "for i, solution in enumerate(solutions):\n",
        "    print(f\"Solution {i + 1}:\")\n",
        "    for row in solution:\n",
        "        print(row)\n",
        "    print()\n"
      ],
      "metadata": {
        "colab": {
          "base_uri": "https://localhost:8080/"
        },
        "id": "EeCkoJ8YP8rj",
        "outputId": "097c6657-6193-4ee6-8791-1114e6794b59"
      },
      "execution_count": 24,
      "outputs": [
        {
          "output_type": "stream",
          "name": "stdout",
          "text": [
            "Solution 1:\n",
            "..Q.\n",
            "Q...\n",
            "...Q\n",
            ".Q..\n",
            "\n",
            "Solution 2:\n",
            ".Q..\n",
            "...Q\n",
            "Q...\n",
            "..Q.\n",
            "\n"
          ]
        }
      ]
    },
    {
      "cell_type": "markdown",
      "source": [
        "# DP"
      ],
      "metadata": {
        "id": "p05HqeFVP9bW"
      }
    },
    {
      "cell_type": "markdown",
      "source": [
        "## 0-1 Knapsack"
      ],
      "metadata": {
        "id": "N_7JM-fhP_UD"
      }
    },
    {
      "cell_type": "code",
      "source": [],
      "metadata": {
        "id": "e9ZSFDDDQCNR"
      },
      "execution_count": null,
      "outputs": []
    },
    {
      "cell_type": "markdown",
      "source": [
        "## Fibonnacci Sequence"
      ],
      "metadata": {
        "id": "_hEg8cZMQCzA"
      }
    },
    {
      "cell_type": "code",
      "source": [],
      "metadata": {
        "id": "UvtGW4cFQG7_"
      },
      "execution_count": null,
      "outputs": []
    },
    {
      "cell_type": "markdown",
      "source": [
        "## Wild Card Pattern Matching"
      ],
      "metadata": {
        "id": "gngZ0TmsQIZH"
      }
    },
    {
      "cell_type": "code",
      "source": [],
      "metadata": {
        "id": "tmvCZnXsQLRS"
      },
      "execution_count": null,
      "outputs": []
    },
    {
      "cell_type": "code",
      "source": [],
      "metadata": {
        "id": "ZVwJ7JwpP-P7"
      },
      "execution_count": null,
      "outputs": []
    },
    {
      "cell_type": "code",
      "source": [],
      "metadata": {
        "id": "xxIkLcgaME9v"
      },
      "execution_count": null,
      "outputs": []
    },
    {
      "cell_type": "code",
      "source": [],
      "metadata": {
        "id": "hS9yCFL6J1Y_"
      },
      "execution_count": null,
      "outputs": []
    },
    {
      "cell_type": "code",
      "source": [],
      "metadata": {
        "id": "X2fenpj7GOup"
      },
      "execution_count": null,
      "outputs": []
    }
  ]
}